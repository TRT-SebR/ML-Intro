{
 "cells": [
  {
   "cell_type": "markdown",
   "id": "6d23c0c8",
   "metadata": {},
   "source": [
    "# Normal Equation Python\n",
    "The normal equation is a closed form solution that minimises the cost function of a linear regression model.\n",
    "\n",
    "Here is an explentation of the normal equation: \n",
    "https://www.geeksforgeeks.org/ml-normal-equation-in-linear-regression/\n",
    "\n",
    "In Python we can use numpy to calculate the normal equation. `inv()` can be used to compute the inverse of a matrix, and `dot()` will be used to compute any matrix multiplication."
   ]
  },
  {
   "cell_type": "markdown",
   "id": "29d15a62",
   "metadata": {},
   "source": [
    "`numpy`, `DataFrame` from `pandas` and `matplotlib` are imported for use. A `DataFrame` is created with synthetic data with some corrilation."
   ]
  },
  {
   "cell_type": "code",
   "execution_count": 1,
   "id": "46d09e27",
   "metadata": {},
   "outputs": [
    {
     "name": "stdout",
     "output_type": "stream",
     "text": [
      "           x          y\n",
      "0   1.140104   7.879530\n",
      "1   1.237613   8.119833\n",
      "2   0.058657   4.481800\n",
      "3   0.043888   4.228142\n",
      "4   1.827505  10.325645\n",
      "..       ...        ...\n",
      "95  0.887916   7.234639\n",
      "96  0.801995   7.395423\n",
      "97  1.403346   8.461431\n",
      "98  1.017919   7.477392\n",
      "99  1.633218   9.852054\n",
      "\n",
      "[100 rows x 2 columns]\n"
     ]
    }
   ],
   "source": [
    "import numpy as np\n",
    "from pandas import DataFrame\n",
    "\n",
    "x = 2 * np.random.rand(100,1)\n",
    "y = 4 + 3 * x + np.random.rand(100,1)\n",
    "\n",
    "#DataFrame for Visulisation\n",
    "data = DataFrame()\n",
    "data['x'] = DataFrame(x)\n",
    "data['y'] = DataFrame(y)\n",
    "print(data)\n"
   ]
  },
  {
   "cell_type": "markdown",
   "id": "db16a3cd",
   "metadata": {},
   "source": [
    "Graph which shows the corrilation of synthetic data."
   ]
  },
  {
   "cell_type": "code",
   "execution_count": 9,
   "id": "e1c2b50a",
   "metadata": {},
   "outputs": [
    {
     "name": "stderr",
     "output_type": "stream",
     "text": [
      "No handles with labels found to put in legend.\n"
     ]
    },
    {
     "data": {
      "text/plain": [
       "<matplotlib.legend.Legend at 0x7fef9cdda100>"
      ]
     },
     "execution_count": 9,
     "metadata": {},
     "output_type": "execute_result"
    },
    {
     "data": {
      "image/png": "[encoded data removed]",
      "text/plain": [
       "<Figure size 432x288 with 1 Axes>"
      ]
     },
     "metadata": {
      "needs_background": "light"
     },
     "output_type": "display_data"
    }
   ],
   "source": [
    "import matplotlib.pyplot as plt\n",
    "fig, ax = plt.subplots()\n",
    "data.plot.scatter(\"x\", \"y\", ax=ax)\n"
   ]
  },
  {
   "cell_type": "markdown",
   "id": "708b4548",
   "metadata": {},
   "source": [
    "Now using `np.ones`, `inv()` and `dot()`, the normal equation is implemented to calculate the y-intercept and gradient of a model which would provide the least loss when labeling data. `numpy.c_` translates slice objects to concatenation along the second axis."
   ]
  },
  {
   "cell_type": "code",
   "execution_count": 3,
   "id": "f3b53f97",
   "metadata": {},
   "outputs": [
    {
     "data": {
      "text/plain": [
       "array([[4.45967952],\n",
       "       [3.05714543]])"
      ]
     },
     "execution_count": 3,
     "metadata": {},
     "output_type": "execute_result"
    }
   ],
   "source": [
    "x_b = np.c_[np.ones((100,1)), x]\n",
    "model = np.linalg.inv(x_b.T.dot(x_b)).dot(x_b.T).dot(y)\n",
    "model"
   ]
  },
  {
   "cell_type": "markdown",
   "id": "c60047f4",
   "metadata": {},
   "source": [
    "Predictions can be made from the model using:"
   ]
  },
  {
   "cell_type": "code",
   "execution_count": 11,
   "id": "87af803b",
   "metadata": {},
   "outputs": [
    {
     "data": {
      "text/plain": [
       "array([[0],\n",
       "       [2]])"
      ]
     },
     "execution_count": 11,
     "metadata": {},
     "output_type": "execute_result"
    }
   ],
   "source": [
    "x_new = np.array([[0],[2]])\n",
    "x_new_b = np.c_[np.ones((2, 1)), x_new]\n",
    "y_predict = x_new_b.dot(model)\n",
    "y_predict"
   ]
  },
  {
   "cell_type": "code",
   "execution_count": 14,
   "id": "948f070b",
   "metadata": {},
   "outputs": [
    {
     "data": {
      "image/png": "[encoded data removed]",
      "text/plain": [
       "<Figure size 432x288 with 1 Axes>"
      ]
     },
     "metadata": {
      "needs_background": "light"
     },
     "output_type": "display_data"
    }
   ],
   "source": [
    "plt.plot(x_new, y_predict, \"r-\")\n",
    "plt.plot(x, y, \"b.\")\n",
    "plt.show()"
   ]
  },
  {
   "cell_type": "code",
   "execution_count": null,
   "id": "8b7f3b5a",
   "metadata": {},
   "outputs": [],
   "source": []
  },
  {
   "cell_type": "code",
   "execution_count": null,
   "id": "e75c3d22",
   "metadata": {},
   "outputs": [],
   "source": []
  }
 ],
 "metadata": {
  "kernelspec": {
   "display_name": "Python 3 (ipykernel)",
   "language": "python",
   "name": "python3"
  },
  "language_info": {
   "codemirror_mode": {
    "name": "ipython",
    "version": 3
   },
   "file_extension": ".py",
   "mimetype": "text/x-python",
   "name": "python",
   "nbconvert_exporter": "python",
   "pygments_lexer": "ipython3",
   "version": "3.8.10"
  }
 },
 "nbformat": 4,
 "nbformat_minor": 5
}
